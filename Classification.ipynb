{
 "cells": [
  {
   "cell_type": "markdown",
   "id": "0e6c88e0-e767-4a5d-8976-22b0fa571643",
   "metadata": {},
   "source": [
    "# LINEAR CALSSIFICATION AND LOGISTIC REGRESSION\n",
    "in this notebook we will a classification problem solved with Linear Classification and Logistic Regression"
   ]
  },
  {
   "cell_type": "code",
   "execution_count": 2,
   "id": "f3677fc1-6cae-42bf-83c1-e3e7a62fcfc8",
   "metadata": {
    "tags": []
   },
   "outputs": [],
   "source": [
    "#imports\n",
    "import numpy as np\n",
    "import matplotlib.pyplot as plt"
   ]
  },
  {
   "cell_type": "markdown",
   "id": "3583c9f5-2e9c-44b6-89bf-40eaa53ab3a0",
   "metadata": {},
   "source": [
    "suppose you are the administrator of a university department and you want to determine each applicant's chance\n",
    "of admission based on their results on twp exams. Tou have historical data from previous applicants that tou can sue as traning set for the model. For each training example, you have the applicant's scores on two exams and the admission decision."
   ]
  },
  {
   "cell_type": "code",
   "execution_count": 6,
   "id": "06c0d2c5-b1f4-439b-8146-5461e21d45f6",
   "metadata": {
    "tags": []
   },
   "outputs": [],
   "source": [
    "#Load the dataset\n",
    "x, y =[],[]\n",
    "\n",
    "with open('./ex2data1.txt', 'r') as txt:\n",
    "    for line in txt.readlines():\n",
    "        vals = line.strip().split(',')\n",
    "        x += [[float(vals[0]), float(vals[1])]]\n",
    "        y += [[float(vals[2])]]\n",
    "\n",
    "x_raw = np.array(x, dtype = np.float32)\n",
    "y = np.array(y, dtype = np.float32)\n",
    "y_lc = np.array([-1 if y_i<0.5 else 1 for y_i in y], dtype = np.float32).reshape(-1, 1)\n"
   ]
  },
  {
   "cell_type": "code",
   "execution_count": null,
   "id": "5a365075-14e1-460b-8bed-f4525eae3f4d",
   "metadata": {},
   "outputs": [],
   "source": []
  }
 ],
 "metadata": {
  "kernelspec": {
   "display_name": "Python 3 (ipykernel)",
   "language": "python",
   "name": "python3"
  },
  "language_info": {
   "codemirror_mode": {
    "name": "ipython",
    "version": 3
   },
   "file_extension": ".py",
   "mimetype": "text/x-python",
   "name": "python",
   "nbconvert_exporter": "python",
   "pygments_lexer": "ipython3",
   "version": "3.11.4"
  }
 },
 "nbformat": 4,
 "nbformat_minor": 5
}
